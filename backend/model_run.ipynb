{
 "cells": [
  {
   "cell_type": "code",
   "execution_count": 1,
   "metadata": {},
   "outputs": [
    {
     "ename": "ModuleNotFoundError",
     "evalue": "No module named 'caffe'",
     "output_type": "error",
     "traceback": [
      "\u001b[1;31m---------------------------------------------------------------------------\u001b[0m",
      "\u001b[1;31mModuleNotFoundError\u001b[0m                       Traceback (most recent call last)",
      "Cell \u001b[1;32mIn[1], line 1\u001b[0m\n\u001b[1;32m----> 1\u001b[0m \u001b[38;5;28;01mimport\u001b[39;00m \u001b[38;5;21;01mcaffe\u001b[39;00m\n\u001b[0;32m      2\u001b[0m \u001b[38;5;28;01mimport\u001b[39;00m \u001b[38;5;21;01mcv2\u001b[39;00m\n\u001b[0;32m      3\u001b[0m \u001b[38;5;28;01mimport\u001b[39;00m \u001b[38;5;21;01mnumpy\u001b[39;00m \u001b[38;5;28;01mas\u001b[39;00m \u001b[38;5;21;01mnp\u001b[39;00m\n",
      "\u001b[1;31mModuleNotFoundError\u001b[0m: No module named 'caffe'"
     ]
    }
   ],
   "source": [
    "import caffe\n",
    "import cv2\n",
    "import numpy as np\n",
    "import os\n",
    "\n",
    "def preprocess_frame(frame, input_size):\n",
    "    # Resize the frame to the input size required by the model\n",
    "    frame_resized = cv2.resize(frame, (input_size[1], input_size[0]))\n",
    "    # Convert the frame to a blob suitable for Caffe\n",
    "    blob = caffe.io.blobproto_to_array(frame_resized)\n",
    "    # Transpose the blob dimensions to match Caffe's format (NCHW)\n",
    "    blob = np.transpose(blob, (0, 3, 1, 2))\n",
    "    return blob\n"
   ]
  },
  {
   "cell_type": "code",
   "execution_count": null,
   "metadata": {},
   "outputs": [],
   "source": [
    "\n",
    "def run_inference(caffe_net, frame_blob):\n",
    "    # Set the input to the network\n",
    "    caffe_net.blobs['data'].data[...] = frame_blob\n",
    "    # Perform forward pass\n",
    "    output = caffe_net.forward()\n",
    "    # Extract the predictions\n",
    "    predictions = output['prob']\n",
    "    return predictions"
   ]
  },
  {
   "cell_type": "code",
   "execution_count": null,
   "metadata": {},
   "outputs": [],
   "source": [
    "\n",
    "def process_frames(frames_dir, model_def, model_weights, input_size, output_dir):\n",
    "    # Initialize Caffe\n",
    "    caffe.set_mode_cpu()\n",
    "    caffe_net = caffe.Net(model_def, model_weights, caffe.TEST)\n",
    "    \n",
    "    # Create output directory if it doesn't exist\n",
    "    if not os.path.exists(output_dir):\n",
    "        os.makedirs(output_dir)\n",
    "\n",
    "    # Process each frame in the frames directory\n",
    "    for frame_file in os.listdir(frames_dir):\n",
    "        frame_path = os.path.join(frames_dir, frame_file)\n",
    "        if frame_path.lower().endswith(('.jpg', '.png', '.jpeg')):\n",
    "            # Read the frame\n",
    "            frame = cv2.imread(frame_path)\n",
    "            # Preprocess the frame\n",
    "            frame_blob = preprocess_frame(frame, input_size)\n",
    "            # Run inference\n",
    "            predictions = run_inference(caffe_net, frame_blob)\n",
    "            # Save or process predictions (for demonstration, saving as text file)\n",
    "            output_file = os.path.join(output_dir, f\"{os.path.splitext(frame_file)[0]}_predictions.txt\")\n",
    "            with open(output_file, 'w') as f:\n",
    "                f.write(str(predictions))\n",
    "            print(f\"Processed: {frame_file}\")\n",
    "\n",
    "    print(\"All frames processed.\")\n"
   ]
  },
  {
   "cell_type": "code",
   "execution_count": null,
   "metadata": {},
   "outputs": [],
   "source": [
    "frames_dir = 'extracted_frames'  # Replace with the directory of extracted frames\n",
    "model_def = 'shanghaia.caffemodel'    # Replace with the path to the Caffe model definition\n",
    "model_weights = 'path/to/model.caffemodel'  # Replace with the path to the Caffe model weights\n",
    "input_size = (224, 224)  # Replace with the input size required by your model (height, width)\n",
    "output_dir = 'new_dir'  # Replace with the directory to save predictions\n",
    "\n",
    "process_frames(frames_dir, model_def, model_weights, input_size, output_dir)"
   ]
  },
  {
   "cell_type": "code",
   "execution_count": null,
   "metadata": {},
   "outputs": [],
   "source": []
  }
 ],
 "metadata": {
  "kernelspec": {
   "display_name": "Python 3 (ipykernel)",
   "language": "python",
   "name": "python3"
  },
  "language_info": {
   "codemirror_mode": {
    "name": "ipython",
    "version": 3
   },
   "file_extension": ".py",
   "mimetype": "text/x-python",
   "name": "python",
   "nbconvert_exporter": "python",
   "pygments_lexer": "ipython3",
   "version": "3.12.4"
  }
 },
 "nbformat": 4,
 "nbformat_minor": 4
}
