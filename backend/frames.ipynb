{
 "cells": [
  {
   "cell_type": "code",
   "execution_count": 1,
   "metadata": {},
   "outputs": [],
   "source": [
    "import cv2\n",
    "import os\n",
    "\n",
    "def extract_frames(video_path, output_dir, frame_interval=10):\n",
    "    # Create output directory if it doesn't exist\n",
    "    if not os.path.exists(output_dir):\n",
    "        os.makedirs(output_dir)\n",
    "\n",
    "    # Open the video file\n",
    "    cap = cv2.VideoCapture(video_path)\n",
    "\n",
    "    # Check if the video file opened successfully\n",
    "    if not cap.isOpened():\n",
    "        print(f\"Error: Could not open video file {video_path}\")\n",
    "        return\n",
    "\n",
    "    # Get video properties\n",
    "    fps = cap.get(cv2.CAP_PROP_FPS)\n",
    "    frame_count = int(cap.get(cv2.CAP_PROP_FRAME_COUNT))\n",
    "\n",
    "    print(f\"Video FPS: {fps}\")\n",
    "    print(f\"Total Frames: {frame_count}\")\n",
    "\n",
    "    frame_number = 0\n",
    "    while True:\n",
    "        # Read the next frame\n",
    "        ret, frame = cap.read()\n",
    "\n",
    "        if not ret:\n",
    "            break\n",
    "\n",
    "        if frame_number % frame_interval == 0:\n",
    "            frame_filename = os.path.join(output_dir, f\"frame_{frame_number:04d}.jpg\")\n",
    "            cv2.imwrite(frame_filename, frame)\n",
    "            print(f\"Saved: {frame_filename}\")\n",
    "\n",
    "        frame_number += 1\n",
    "\n",
    "    cap.release()\n",
    "    print(\"Frame extraction complete\")"
   ]
  },
  {
   "cell_type": "code",
   "execution_count": 2,
   "metadata": {},
   "outputs": [
    {
     "name": "stdout",
     "output_type": "stream",
     "text": [
      "Video FPS: 29.97002997002997\n",
      "Total Frames: 2000\n",
      "Saved: extracted_frames\\frame_0000.jpg\n",
      "Saved: extracted_frames\\frame_0010.jpg\n",
      "Saved: extracted_frames\\frame_0020.jpg\n",
      "Saved: extracted_frames\\frame_0030.jpg\n",
      "Saved: extracted_frames\\frame_0040.jpg\n",
      "Saved: extracted_frames\\frame_0050.jpg\n",
      "Saved: extracted_frames\\frame_0060.jpg\n",
      "Saved: extracted_frames\\frame_0070.jpg\n",
      "Saved: extracted_frames\\frame_0080.jpg\n",
      "Saved: extracted_frames\\frame_0090.jpg\n",
      "Saved: extracted_frames\\frame_0100.jpg\n",
      "Saved: extracted_frames\\frame_0110.jpg\n",
      "Saved: extracted_frames\\frame_0120.jpg\n",
      "Saved: extracted_frames\\frame_0130.jpg\n",
      "Saved: extracted_frames\\frame_0140.jpg\n",
      "Saved: extracted_frames\\frame_0150.jpg\n",
      "Saved: extracted_frames\\frame_0160.jpg\n",
      "Saved: extracted_frames\\frame_0170.jpg\n",
      "Saved: extracted_frames\\frame_0180.jpg\n",
      "Saved: extracted_frames\\frame_0190.jpg\n",
      "Saved: extracted_frames\\frame_0200.jpg\n",
      "Saved: extracted_frames\\frame_0210.jpg\n",
      "Saved: extracted_frames\\frame_0220.jpg\n",
      "Saved: extracted_frames\\frame_0230.jpg\n",
      "Saved: extracted_frames\\frame_0240.jpg\n",
      "Saved: extracted_frames\\frame_0250.jpg\n",
      "Saved: extracted_frames\\frame_0260.jpg\n",
      "Saved: extracted_frames\\frame_0270.jpg\n",
      "Saved: extracted_frames\\frame_0280.jpg\n",
      "Saved: extracted_frames\\frame_0290.jpg\n",
      "Saved: extracted_frames\\frame_0300.jpg\n",
      "Saved: extracted_frames\\frame_0310.jpg\n",
      "Saved: extracted_frames\\frame_0320.jpg\n",
      "Saved: extracted_frames\\frame_0330.jpg\n",
      "Saved: extracted_frames\\frame_0340.jpg\n",
      "Saved: extracted_frames\\frame_0350.jpg\n",
      "Saved: extracted_frames\\frame_0360.jpg\n",
      "Saved: extracted_frames\\frame_0370.jpg\n",
      "Saved: extracted_frames\\frame_0380.jpg\n",
      "Saved: extracted_frames\\frame_0390.jpg\n",
      "Saved: extracted_frames\\frame_0400.jpg\n",
      "Saved: extracted_frames\\frame_0410.jpg\n",
      "Saved: extracted_frames\\frame_0420.jpg\n",
      "Saved: extracted_frames\\frame_0430.jpg\n",
      "Saved: extracted_frames\\frame_0440.jpg\n",
      "Saved: extracted_frames\\frame_0450.jpg\n",
      "Saved: extracted_frames\\frame_0460.jpg\n",
      "Saved: extracted_frames\\frame_0470.jpg\n"
     ]
    },
    {
     "ename": "KeyboardInterrupt",
     "evalue": "",
     "output_type": "error",
     "traceback": [
      "\u001b[1;31m---------------------------------------------------------------------------\u001b[0m",
      "\u001b[1;31mKeyboardInterrupt\u001b[0m                         Traceback (most recent call last)",
      "Cell \u001b[1;32mIn[2], line 4\u001b[0m\n\u001b[0;32m      2\u001b[0m video_path \u001b[38;5;241m=\u001b[39m \u001b[38;5;124m'\u001b[39m\u001b[38;5;124mconcert_drone_footage/clip1.mp4\u001b[39m\u001b[38;5;124m'\u001b[39m  \n\u001b[0;32m      3\u001b[0m output_dir \u001b[38;5;241m=\u001b[39m \u001b[38;5;124m'\u001b[39m\u001b[38;5;124mextracted_frames\u001b[39m\u001b[38;5;124m'\u001b[39m\n\u001b[1;32m----> 4\u001b[0m \u001b[43mextract_frames\u001b[49m\u001b[43m(\u001b[49m\u001b[43mvideo_path\u001b[49m\u001b[43m,\u001b[49m\u001b[43m \u001b[49m\u001b[43moutput_dir\u001b[49m\u001b[43m)\u001b[49m\n",
      "Cell \u001b[1;32mIn[1], line 35\u001b[0m, in \u001b[0;36mextract_frames\u001b[1;34m(video_path, output_dir, frame_interval)\u001b[0m\n\u001b[0;32m     33\u001b[0m \u001b[38;5;28;01mif\u001b[39;00m frame_number \u001b[38;5;241m%\u001b[39m frame_interval \u001b[38;5;241m==\u001b[39m \u001b[38;5;241m0\u001b[39m:\n\u001b[0;32m     34\u001b[0m     frame_filename \u001b[38;5;241m=\u001b[39m os\u001b[38;5;241m.\u001b[39mpath\u001b[38;5;241m.\u001b[39mjoin(output_dir, \u001b[38;5;124mf\u001b[39m\u001b[38;5;124m\"\u001b[39m\u001b[38;5;124mframe_\u001b[39m\u001b[38;5;132;01m{\u001b[39;00mframe_number\u001b[38;5;132;01m:\u001b[39;00m\u001b[38;5;124m04d\u001b[39m\u001b[38;5;132;01m}\u001b[39;00m\u001b[38;5;124m.jpg\u001b[39m\u001b[38;5;124m\"\u001b[39m)\n\u001b[1;32m---> 35\u001b[0m     \u001b[43mcv2\u001b[49m\u001b[38;5;241;43m.\u001b[39;49m\u001b[43mimwrite\u001b[49m\u001b[43m(\u001b[49m\u001b[43mframe_filename\u001b[49m\u001b[43m,\u001b[49m\u001b[43m \u001b[49m\u001b[43mframe\u001b[49m\u001b[43m)\u001b[49m\n\u001b[0;32m     36\u001b[0m     \u001b[38;5;28mprint\u001b[39m(\u001b[38;5;124mf\u001b[39m\u001b[38;5;124m\"\u001b[39m\u001b[38;5;124mSaved: \u001b[39m\u001b[38;5;132;01m{\u001b[39;00mframe_filename\u001b[38;5;132;01m}\u001b[39;00m\u001b[38;5;124m\"\u001b[39m)\n\u001b[0;32m     38\u001b[0m frame_number \u001b[38;5;241m+\u001b[39m\u001b[38;5;241m=\u001b[39m \u001b[38;5;241m1\u001b[39m\n",
      "\u001b[1;31mKeyboardInterrupt\u001b[0m: "
     ]
    }
   ],
   "source": [
    "# Usage\n",
    "video_path = 'concert_drone_footage/clip1.mp4'  \n",
    "output_dir = 'extracted_frames'\n",
    "extract_frames(video_path, output_dir)"
   ]
  },
  {
   "cell_type": "code",
   "execution_count": null,
   "metadata": {},
   "outputs": [],
   "source": []
  }
 ],
 "metadata": {
  "kernelspec": {
   "display_name": "Python 3 (ipykernel)",
   "language": "python",
   "name": "python3"
  },
  "language_info": {
   "codemirror_mode": {
    "name": "ipython",
    "version": 3
   },
   "file_extension": ".py",
   "mimetype": "text/x-python",
   "name": "python",
   "nbconvert_exporter": "python",
   "pygments_lexer": "ipython3",
   "version": "3.12.4"
  }
 },
 "nbformat": 4,
 "nbformat_minor": 4
}
